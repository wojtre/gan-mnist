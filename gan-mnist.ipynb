{
 "cells": [
  {
   "cell_type": "code",
   "execution_count": 6,
   "metadata": {
    "collapsed": true
   },
   "outputs": [],
   "source": [
    "from keras.layers import BatchNormalization, Dense, Activation, Reshape, Dropout, UpSampling2D, Conv2DTranspose, Conv2D, LeakyReLU, Flatten\n",
    "from keras.models import Sequential\n"
   ]
  },
  {
   "cell_type": "code",
   "execution_count": null,
   "metadata": {},
   "outputs": [],
   "source": [
    "def generator():\n",
    "    model = Sequential()\n",
    "    dropout = 0.4\n",
    "    depth = 64 + 64 + 64 + 64\n",
    "    dim = 7\n",
    "    model.add(Dense(dim ** 2 * depth, input_dim=100))\n",
    "    model.add(BatchNormalization(momentum=0.9))\n",
    "    model.add(Activation('relu'))\n",
    "    model.add(Reshape((dim, dim, depth)))\n",
    "    model.add(Dropout(dropout))\n",
    "\n",
    "    # second layer\n",
    "    model.add(UpSampling2D)\n",
    "    model.add(Conv2DTranspose(int(depth / 2), 5, padding='same'))\n",
    "    model.add(BatchNormalization(momentum=0.9))\n",
    "    model.add(Activation('relu'))\n",
    "    model.add(UpSampling2D())\n",
    "    model.add(Conv2DTranspose(int(depth / 4), 5, padding='same'))\n",
    "    model.add(BatchNormalization(momentum=0.9))\n",
    "    model.add(Activation('relu'))\n",
    "    model.add(Conv2DTranspose(int(depth / 8), 5, padding='same'))\n",
    "    model.add(BatchNormalization(momentum=0.9))\n",
    "    model.add(Activation('relu'))\n",
    "\n",
    "    model.add(Conv2DTranspose(1, 5, padding='same'))\n",
    "    model.add(Activation('sigmoid'))\n",
    "    model.summary()\n",
    "    return model\n",
    "\n",
    "\n",
    "def discriminator(img_rows, img_cols, channels):\n",
    "    depth = 64\n",
    "    dropout = 0.4\n",
    "    model = Sequential()\n",
    "    input_shape = (img_rows, img_cols, channels)\n",
    "    model.add(Conv2D(depth, 5, strides=2, input_shape=input_shape, padding='same', activation=LeakyReLU(alpha=0.2)))\n",
    "    model.add(Dropout(dropout))\n",
    "    \n",
    "    model.add(Conv2D(depth*2, 5, strides=2, input_shape=input_shape, padding='same', activation=LeakyReLU(alpha=0.2)))\n",
    "    model.add(Dropout(dropout))\n",
    "    \n",
    "    model.add(Conv2D(depth*4, 5, strides=2, input_shape=input_shape, padding='same', activation=LeakyReLU(alpha=0.2)))\n",
    "    model.add(Dropout(dropout))\n",
    "    \n",
    "    model.add(Conv2D(depth*8, 5, strides=2, input_shape=input_shape, padding='same', activation=LeakyReLU(alpha=0.2)))\n",
    "    model.add(Dropout(dropout))\n",
    "    \n",
    "    model.add(Flatten)\n",
    "    model.add(Dense(1))\n",
    "    model.add(Activation('sigmoid'))\n",
    "    model.summary()\n",
    "    \n",
    "    return model"
   ]
  }
 ],
 "metadata": {
  "kernelspec": {
   "display_name": "Python 2",
   "language": "python",
   "name": "python2"
  },
  "language_info": {
   "codemirror_mode": {
    "name": "ipython",
    "version": 2
   },
   "file_extension": ".py",
   "mimetype": "text/x-python",
   "name": "python",
   "nbconvert_exporter": "python",
   "pygments_lexer": "ipython2",
   "version": "2.7.6"
  }
 },
 "nbformat": 4,
 "nbformat_minor": 0
}
